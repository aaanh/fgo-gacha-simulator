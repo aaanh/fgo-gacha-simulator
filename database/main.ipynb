{
 "cells": [
  {
   "cell_type": "code",
   "execution_count": 15,
   "metadata": {},
   "outputs": [],
   "source": [
    "import matplotlib.pyplot as plt\n",
    "import pandas as pd\n",
    "import json"
   ]
  },
  {
   "cell_type": "code",
   "execution_count": 24,
   "metadata": {},
   "outputs": [
    {
     "data": {
      "text/html": [
       "<div>\n",
       "<style scoped>\n",
       "    .dataframe tbody tr th:only-of-type {\n",
       "        vertical-align: middle;\n",
       "    }\n",
       "\n",
       "    .dataframe tbody tr th {\n",
       "        vertical-align: top;\n",
       "    }\n",
       "\n",
       "    .dataframe thead th {\n",
       "        text-align: right;\n",
       "    }\n",
       "</style>\n",
       "<table border=\"1\" class=\"dataframe\">\n",
       "  <thead>\n",
       "    <tr style=\"text-align: right;\">\n",
       "      <th></th>\n",
       "      <th>sv_collectionId</th>\n",
       "      <th>sv_name</th>\n",
       "      <th>sv_class</th>\n",
       "      <th>sv_rarity</th>\n",
       "      <th>sv_face</th>\n",
       "    </tr>\n",
       "  </thead>\n",
       "  <tbody>\n",
       "    <tr>\n",
       "      <th>0</th>\n",
       "      <td>34</td>\n",
       "      <td>William Shakespeare</td>\n",
       "      <td>caster</td>\n",
       "      <td>2</td>\n",
       "      <td>https://static.atlasacademy.io/JP/Faces/f_5007...</td>\n",
       "    </tr>\n",
       "    <tr>\n",
       "      <th>1</th>\n",
       "      <td>249</td>\n",
       "      <td>Asclepius</td>\n",
       "      <td>caster</td>\n",
       "      <td>3</td>\n",
       "      <td>https://static.atlasacademy.io/JP/Faces/f_5043...</td>\n",
       "    </tr>\n",
       "    <tr>\n",
       "      <th>2</th>\n",
       "      <td>110</td>\n",
       "      <td>Hassan of the Hundred Personas</td>\n",
       "      <td>assassin</td>\n",
       "      <td>3</td>\n",
       "      <td>https://static.atlasacademy.io/JP/Faces/f_6003...</td>\n",
       "    </tr>\n",
       "    <tr>\n",
       "      <th>3</th>\n",
       "      <td>294</td>\n",
       "      <td>Oda Nobukatsu</td>\n",
       "      <td>archer</td>\n",
       "      <td>1</td>\n",
       "      <td>https://static.atlasacademy.io/JP/Faces/f_2041...</td>\n",
       "    </tr>\n",
       "    <tr>\n",
       "      <th>4</th>\n",
       "      <td>105</td>\n",
       "      <td>Billy the Kid</td>\n",
       "      <td>archer</td>\n",
       "      <td>3</td>\n",
       "      <td>https://static.atlasacademy.io/JP/Faces/f_2010...</td>\n",
       "    </tr>\n",
       "    <tr>\n",
       "      <th>...</th>\n",
       "      <td>...</td>\n",
       "      <td>...</td>\n",
       "      <td>...</td>\n",
       "      <td>...</td>\n",
       "      <td>...</td>\n",
       "    </tr>\n",
       "    <tr>\n",
       "      <th>995</th>\n",
       "      <td>249</td>\n",
       "      <td>Asclepius</td>\n",
       "      <td>caster</td>\n",
       "      <td>3</td>\n",
       "      <td>https://static.atlasacademy.io/JP/Faces/f_5043...</td>\n",
       "    </tr>\n",
       "    <tr>\n",
       "      <th>996</th>\n",
       "      <td>19</td>\n",
       "      <td>Musashibou Benkei</td>\n",
       "      <td>lancer</td>\n",
       "      <td>2</td>\n",
       "      <td>https://static.atlasacademy.io/JP/Faces/f_3006...</td>\n",
       "    </tr>\n",
       "    <tr>\n",
       "      <th>997</th>\n",
       "      <td>148</td>\n",
       "      <td>Jaguar Warrior</td>\n",
       "      <td>lancer</td>\n",
       "      <td>3</td>\n",
       "      <td>https://static.atlasacademy.io/JP/Faces/f_3028...</td>\n",
       "    </tr>\n",
       "    <tr>\n",
       "      <th>998</th>\n",
       "      <td>17</td>\n",
       "      <td>Cú Chulainn</td>\n",
       "      <td>lancer</td>\n",
       "      <td>3</td>\n",
       "      <td>https://static.atlasacademy.io/JP/Faces/f_3001...</td>\n",
       "    </tr>\n",
       "    <tr>\n",
       "      <th>999</th>\n",
       "      <td>110</td>\n",
       "      <td>Hassan of the Hundred Personas</td>\n",
       "      <td>assassin</td>\n",
       "      <td>3</td>\n",
       "      <td>https://static.atlasacademy.io/JP/Faces/f_6003...</td>\n",
       "    </tr>\n",
       "  </tbody>\n",
       "</table>\n",
       "<p>1000 rows × 5 columns</p>\n",
       "</div>"
      ],
      "text/plain": [
       "     sv_collectionId                         sv_name  sv_class  sv_rarity  \\\n",
       "0                 34             William Shakespeare    caster          2   \n",
       "1                249                       Asclepius    caster          3   \n",
       "2                110  Hassan of the Hundred Personas  assassin          3   \n",
       "3                294                   Oda Nobukatsu    archer          1   \n",
       "4                105                   Billy the Kid    archer          3   \n",
       "..               ...                             ...       ...        ...   \n",
       "995              249                       Asclepius    caster          3   \n",
       "996               19               Musashibou Benkei    lancer          2   \n",
       "997              148                  Jaguar Warrior    lancer          3   \n",
       "998               17                     Cú Chulainn    lancer          3   \n",
       "999              110  Hassan of the Hundred Personas  assassin          3   \n",
       "\n",
       "                                               sv_face  \n",
       "0    https://static.atlasacademy.io/JP/Faces/f_5007...  \n",
       "1    https://static.atlasacademy.io/JP/Faces/f_5043...  \n",
       "2    https://static.atlasacademy.io/JP/Faces/f_6003...  \n",
       "3    https://static.atlasacademy.io/JP/Faces/f_2041...  \n",
       "4    https://static.atlasacademy.io/JP/Faces/f_2010...  \n",
       "..                                                 ...  \n",
       "995  https://static.atlasacademy.io/JP/Faces/f_5043...  \n",
       "996  https://static.atlasacademy.io/JP/Faces/f_3006...  \n",
       "997  https://static.atlasacademy.io/JP/Faces/f_3028...  \n",
       "998  https://static.atlasacademy.io/JP/Faces/f_3001...  \n",
       "999  https://static.atlasacademy.io/JP/Faces/f_6003...  \n",
       "\n",
       "[1000 rows x 5 columns]"
      ]
     },
     "execution_count": 24,
     "metadata": {},
     "output_type": "execute_result"
    }
   ],
   "source": [
    "df = pd.read_json(\"./roll-data.json\")\n",
    "df = pd.json_normalize(df[\"servant\"])\n",
    "df"
   ]
  },
  {
   "cell_type": "code",
   "execution_count": 25,
   "metadata": {},
   "outputs": [
    {
     "data": {
      "image/png": "[encoded data removed]",
      "text/plain": [
       "<Figure size 640x480 with 1 Axes>"
      ]
     },
     "metadata": {},
     "output_type": "display_data"
    }
   ],
   "source": [
    "rarity_counts = df[\"sv_rarity\"].value_counts().sort_index()\n",
    "\n",
    "# Plot a bar graph with respect to Rarity\n",
    "rarity_counts.plot(kind=\"bar\")\n",
    "plt.xlabel(\"Rarity\")\n",
    "plt.ylabel(\"Number of Appearances\")\n",
    "plt.title(\"Number of Appearances for Each Rarity\")\n",
    "plt.xticks(rotation=0)  # Rotate x-axis labels for better visibility\n",
    "plt.tight_layout()\n",
    "\n",
    "# Show the plot\n",
    "plt.show()"
   ]
  },
  {
   "cell_type": "code",
   "execution_count": 26,
   "metadata": {},
   "outputs": [
    {
     "data": {
      "text/plain": [
       "sv_rarity\n",
       "0     15\n",
       "1    132\n",
       "2    209\n",
       "3    612\n",
       "4     23\n",
       "5      9\n",
       "Name: count, dtype: int64"
      ]
     },
     "execution_count": 26,
     "metadata": {},
     "output_type": "execute_result"
    }
   ],
   "source": [
    "rarity_counts"
   ]
  },
  {
   "cell_type": "code",
   "execution_count": null,
   "metadata": {},
   "outputs": [],
   "source": []
  }
 ],
 "metadata": {
  "kernelspec": {
   "display_name": "Python 3",
   "language": "python",
   "name": "python3"
  },
  "language_info": {
   "codemirror_mode": {
    "name": "ipython",
    "version": 3
   },
   "file_extension": ".py",
   "mimetype": "text/x-python",
   "name": "python",
   "nbconvert_exporter": "python",
   "pygments_lexer": "ipython3",
   "version": "3.11.5"
  }
 },
 "nbformat": 4,
 "nbformat_minor": 2
}
